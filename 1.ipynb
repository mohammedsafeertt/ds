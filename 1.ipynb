{
  "nbformat": 4,
  "nbformat_minor": 0,
  "metadata": {
    "colab": {
      "provenance": []
    },
    "kernelspec": {
      "name": "python3",
      "display_name": "Python 3"
    },
    "language_info": {
      "name": "python"
    }
  },
  "cells": [
    {
      "cell_type": "code",
      "execution_count": null,
      "metadata": {
        "id": "PMAXofqTW_5d"
      },
      "outputs": [],
      "source": [
        "import pandas as pd\n",
        "import statsmodels.api as sm\n",
        "\n",
        "# Specify the dataset location\n",
        "csv_path = '/content/Advertising.csv'\n",
        "dataset = pd.read_csv(csv_path)\n",
        "\n",
        "# Clean column names by removing leading/trailing spaces\n",
        "dataset.columns = dataset.columns.str.strip()\n",
        "\n",
        "# Select independent variables (TV, Radio, Newspaper) and dependent variable (Sales)\n",
        "predictors = dataset[['TV', 'radio', 'newspaper']]\n",
        "target = dataset['sales']\n",
        "\n",
        "# Include a constant term for regression calculations\n",
        "predictors = sm.add_constant(predictors)\n",
        "\n",
        "# Train the multiple linear regression model\n",
        "regression_model = sm.OLS(target, predictors).fit()\n",
        "\n",
        "# Obtain model performance summary\n",
        "model_summary = regression_model.summary()\n",
        "\n",
        "# Compute Residual Standard Error (RSE)\n",
        "errors = regression_model.resid\n",
        "sum_squared_errors = sum(errors ** 2)\n",
        "sample_size = len(target)\n",
        "num_predictors = predictors.shape[1] - 1  # Count of independent variables\n",
        "residual_standard_error = (sum_squared_errors / (sample_size - num_predictors - 1)) ** 0.5\n",
        "\n",
        "# Extract R-squared value\n",
        "r2_score = regression_model.rsquared\n",
        "\n",
        "print(model_summary)\n",
        "print(f\"\\nResidual Standard Error (RSE): {residual_standard_error:.4f}\")\n",
        "print(f\"R-squared: {r2_score:.4f}\")\n"
      ]
    }
  ]
}